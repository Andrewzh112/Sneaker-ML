{
  "nbformat": 4,
  "nbformat_minor": 0,
  "metadata": {
    "kernelspec": {
      "display_name": "Python 3",
      "language": "python",
      "name": "python3"
    },
    "language_info": {
      "codemirror_mode": {
        "name": "ipython",
        "version": 3
      },
      "file_extension": ".py",
      "mimetype": "text/x-python",
      "name": "python",
      "nbconvert_exporter": "python",
      "pygments_lexer": "ipython3",
      "version": "3.7.6"
    },
    "colab": {
      "name": "2_Hype_Classification.ipynb",
      "provenance": [],
      "collapsed_sections": []
    },
    "accelerator": "GPU",
    "widgets": {
      "application/vnd.jupyter.widget-state+json": {
        "14542faa25994b57a233f0e1891b3e8b": {
          "model_module": "@jupyter-widgets/controls",
          "model_name": "HBoxModel",
          "state": {
            "_view_name": "HBoxView",
            "_dom_classes": [],
            "_model_name": "HBoxModel",
            "_view_module": "@jupyter-widgets/controls",
            "_model_module_version": "1.5.0",
            "_view_count": null,
            "_view_module_version": "1.5.0",
            "box_style": "",
            "layout": "IPY_MODEL_ce7db2b376fb49ee92ec2a4082af187a",
            "_model_module": "@jupyter-widgets/controls",
            "children": [
              "IPY_MODEL_54222246f2e2448d98f572abba226b83",
              "IPY_MODEL_0b888550dbd94b08a4fc3cdc6fdc092d"
            ]
          }
        },
        "ce7db2b376fb49ee92ec2a4082af187a": {
          "model_module": "@jupyter-widgets/base",
          "model_name": "LayoutModel",
          "state": {
            "_view_name": "LayoutView",
            "grid_template_rows": null,
            "right": null,
            "justify_content": null,
            "_view_module": "@jupyter-widgets/base",
            "overflow": null,
            "_model_module_version": "1.2.0",
            "_view_count": null,
            "flex_flow": null,
            "width": null,
            "min_width": null,
            "border": null,
            "align_items": null,
            "bottom": null,
            "_model_module": "@jupyter-widgets/base",
            "top": null,
            "grid_column": null,
            "overflow_y": null,
            "overflow_x": null,
            "grid_auto_flow": null,
            "grid_area": null,
            "grid_template_columns": null,
            "flex": null,
            "_model_name": "LayoutModel",
            "justify_items": null,
            "grid_row": null,
            "max_height": null,
            "align_content": null,
            "visibility": null,
            "align_self": null,
            "height": null,
            "min_height": null,
            "padding": null,
            "grid_auto_rows": null,
            "grid_gap": null,
            "max_width": null,
            "order": null,
            "_view_module_version": "1.2.0",
            "grid_template_areas": null,
            "object_position": null,
            "object_fit": null,
            "grid_auto_columns": null,
            "margin": null,
            "display": null,
            "left": null
          }
        },
        "54222246f2e2448d98f572abba226b83": {
          "model_module": "@jupyter-widgets/controls",
          "model_name": "FloatProgressModel",
          "state": {
            "_view_name": "ProgressView",
            "style": "IPY_MODEL_3a162d17e41744a3ad533e7d5d94e973",
            "_dom_classes": [],
            "description": "100%",
            "_model_name": "FloatProgressModel",
            "bar_style": "success",
            "max": 9218294,
            "_view_module": "@jupyter-widgets/controls",
            "_model_module_version": "1.5.0",
            "value": 9218294,
            "_view_count": null,
            "_view_module_version": "1.5.0",
            "orientation": "horizontal",
            "min": 0,
            "description_tooltip": null,
            "_model_module": "@jupyter-widgets/controls",
            "layout": "IPY_MODEL_83ebe45255914021ab6fe700a3a3f73d"
          }
        },
        "0b888550dbd94b08a4fc3cdc6fdc092d": {
          "model_module": "@jupyter-widgets/controls",
          "model_name": "HTMLModel",
          "state": {
            "_view_name": "HTMLView",
            "style": "IPY_MODEL_0506be44d22c4f1f8de3a2d0950ba51d",
            "_dom_classes": [],
            "description": "",
            "_model_name": "HTMLModel",
            "placeholder": "​",
            "_view_module": "@jupyter-widgets/controls",
            "_model_module_version": "1.5.0",
            "value": " 8.79M/8.79M [01:28&lt;00:00, 104kB/s]",
            "_view_count": null,
            "_view_module_version": "1.5.0",
            "description_tooltip": null,
            "_model_module": "@jupyter-widgets/controls",
            "layout": "IPY_MODEL_1624c951c7d4404abbca6a52fde604c8"
          }
        },
        "3a162d17e41744a3ad533e7d5d94e973": {
          "model_module": "@jupyter-widgets/controls",
          "model_name": "ProgressStyleModel",
          "state": {
            "_view_name": "StyleView",
            "_model_name": "ProgressStyleModel",
            "description_width": "initial",
            "_view_module": "@jupyter-widgets/base",
            "_model_module_version": "1.5.0",
            "_view_count": null,
            "_view_module_version": "1.2.0",
            "bar_color": null,
            "_model_module": "@jupyter-widgets/controls"
          }
        },
        "83ebe45255914021ab6fe700a3a3f73d": {
          "model_module": "@jupyter-widgets/base",
          "model_name": "LayoutModel",
          "state": {
            "_view_name": "LayoutView",
            "grid_template_rows": null,
            "right": null,
            "justify_content": null,
            "_view_module": "@jupyter-widgets/base",
            "overflow": null,
            "_model_module_version": "1.2.0",
            "_view_count": null,
            "flex_flow": null,
            "width": null,
            "min_width": null,
            "border": null,
            "align_items": null,
            "bottom": null,
            "_model_module": "@jupyter-widgets/base",
            "top": null,
            "grid_column": null,
            "overflow_y": null,
            "overflow_x": null,
            "grid_auto_flow": null,
            "grid_area": null,
            "grid_template_columns": null,
            "flex": null,
            "_model_name": "LayoutModel",
            "justify_items": null,
            "grid_row": null,
            "max_height": null,
            "align_content": null,
            "visibility": null,
            "align_self": null,
            "height": null,
            "min_height": null,
            "padding": null,
            "grid_auto_rows": null,
            "grid_gap": null,
            "max_width": null,
            "order": null,
            "_view_module_version": "1.2.0",
            "grid_template_areas": null,
            "object_position": null,
            "object_fit": null,
            "grid_auto_columns": null,
            "margin": null,
            "display": null,
            "left": null
          }
        },
        "0506be44d22c4f1f8de3a2d0950ba51d": {
          "model_module": "@jupyter-widgets/controls",
          "model_name": "DescriptionStyleModel",
          "state": {
            "_view_name": "StyleView",
            "_model_name": "DescriptionStyleModel",
            "description_width": "",
            "_view_module": "@jupyter-widgets/base",
            "_model_module_version": "1.5.0",
            "_view_count": null,
            "_view_module_version": "1.2.0",
            "_model_module": "@jupyter-widgets/controls"
          }
        },
        "1624c951c7d4404abbca6a52fde604c8": {
          "model_module": "@jupyter-widgets/base",
          "model_name": "LayoutModel",
          "state": {
            "_view_name": "LayoutView",
            "grid_template_rows": null,
            "right": null,
            "justify_content": null,
            "_view_module": "@jupyter-widgets/base",
            "overflow": null,
            "_model_module_version": "1.2.0",
            "_view_count": null,
            "flex_flow": null,
            "width": null,
            "min_width": null,
            "border": null,
            "align_items": null,
            "bottom": null,
            "_model_module": "@jupyter-widgets/base",
            "top": null,
            "grid_column": null,
            "overflow_y": null,
            "overflow_x": null,
            "grid_auto_flow": null,
            "grid_area": null,
            "grid_template_columns": null,
            "flex": null,
            "_model_name": "LayoutModel",
            "justify_items": null,
            "grid_row": null,
            "max_height": null,
            "align_content": null,
            "visibility": null,
            "align_self": null,
            "height": null,
            "min_height": null,
            "padding": null,
            "grid_auto_rows": null,
            "grid_gap": null,
            "max_width": null,
            "order": null,
            "_view_module_version": "1.2.0",
            "grid_template_areas": null,
            "object_position": null,
            "object_fit": null,
            "grid_auto_columns": null,
            "margin": null,
            "display": null,
            "left": null
          }
        }
      }
    }
  },
  "cells": [
    {
      "cell_type": "code",
      "metadata": {
        "id": "VzJWBrMCH9L1",
        "colab_type": "code",
        "colab": {}
      },
      "source": [
        "import torch\n",
        "import torch.nn as nn\n",
        "import torch.functional as F\n",
        "import torchvision\n",
        "from torchvision import datasets, transforms, models\n",
        "torch.manual_seed(0)\n",
        "\n",
        "import numpy as np\n",
        "import matplotlib.pyplot as plt\n",
        "import os\n",
        "\n",
        "from models import train_loop, get_dataloaders, accuracy, get_classification_report, get_dataset"
      ],
      "execution_count": 0,
      "outputs": []
    },
    {
      "cell_type": "code",
      "metadata": {
        "id": "Z12vCc59_Ayi",
        "colab_type": "code",
        "colab": {}
      },
      "source": [
        "!unzip hype_data.zip"
      ],
      "execution_count": 0,
      "outputs": []
    },
    {
      "cell_type": "markdown",
      "metadata": {
        "id": "SF1D9fMKXiBD",
        "colab_type": "text"
      },
      "source": [
        "# Initial Model"
      ]
    },
    {
      "cell_type": "code",
      "metadata": {
        "id": "2sufUYrzH9MB",
        "colab_type": "code",
        "colab": {}
      },
      "source": [
        "data_path = os.path.join('/content','brand_data')\n",
        "train_loader, test_loader = get_dataloaders(path=data_path,batch_size=32)"
      ],
      "execution_count": 0,
      "outputs": []
    },
    {
      "cell_type": "code",
      "metadata": {
        "id": "aFJosixF4Zq8",
        "colab_type": "code",
        "colab": {}
      },
      "source": [
        "train_dataset, _ = get_dataset('brand_data')\n",
        "idx_to_class = dict(enumerate(train_dataset.class_to_idx))"
      ],
      "execution_count": 0,
      "outputs": []
    },
    {
      "cell_type": "code",
      "metadata": {
        "id": "Q0O3cvrtH9MF",
        "colab_type": "code",
        "outputId": "b4c07c2f-cc7d-421a-c785-04dd73e4f494",
        "colab": {
          "base_uri": "https://localhost:8080/",
          "height": 83,
          "referenced_widgets": [
            "14542faa25994b57a233f0e1891b3e8b",
            "ce7db2b376fb49ee92ec2a4082af187a",
            "54222246f2e2448d98f572abba226b83",
            "0b888550dbd94b08a4fc3cdc6fdc092d",
            "3a162d17e41744a3ad533e7d5d94e973",
            "83ebe45255914021ab6fe700a3a3f73d",
            "0506be44d22c4f1f8de3a2d0950ba51d",
            "1624c951c7d4404abbca6a52fde604c8"
          ]
        }
      },
      "source": [
        "model = models.shufflenet_v2_x1_0(pretrained=True)\n",
        "for param in model.parameters():\n",
        "    param.requires_grad = False"
      ],
      "execution_count": 0,
      "outputs": [
        {
          "output_type": "stream",
          "text": [
            "Downloading: \"https://download.pytorch.org/models/shufflenetv2_x1-5666bf0f80.pth\" to /root/.cache/torch/checkpoints/shufflenetv2_x1-5666bf0f80.pth\n"
          ],
          "name": "stderr"
        },
        {
          "output_type": "display_data",
          "data": {
            "application/vnd.jupyter.widget-view+json": {
              "model_id": "14542faa25994b57a233f0e1891b3e8b",
              "version_minor": 0,
              "version_major": 2
            },
            "text/plain": [
              "HBox(children=(FloatProgress(value=0.0, max=9218294.0), HTML(value='')))"
            ]
          },
          "metadata": {
            "tags": []
          }
        },
        {
          "output_type": "stream",
          "text": [
            "\n"
          ],
          "name": "stdout"
        }
      ]
    },
    {
      "cell_type": "code",
      "metadata": {
        "id": "T1YDj2oyH9MH",
        "colab_type": "code",
        "colab": {}
      },
      "source": [
        "# vgg16 batchsize 32, lr 0.01 epochs 20 ACCURACY 0.9525\n",
        "# n_features = model.classifier[0].in_features\n",
        "# model.classifier = nn.Sequential(\n",
        "#     nn.Linear(n_features, int(n_features/8)),\n",
        "#     nn.BatchNorm1d(int(n_features/8)),\n",
        "#     nn.ReLU(),\n",
        "#     nn.Dropout(0.4),\n",
        "#     nn.Linear(int(n_features/8), int(n_features/64)),\n",
        "#     nn.BatchNorm1d(int(n_features/64)),\n",
        "#     nn.ReLU(),\n",
        "#     nn.Dropout(0.4),\n",
        "#     nn.Linear(int(n_features/64), 2)\n",
        "#     )"
      ],
      "execution_count": 0,
      "outputs": []
    },
    {
      "cell_type": "code",
      "metadata": {
        "id": "VZ8e5mH5f6jW",
        "colab_type": "code",
        "colab": {}
      },
      "source": [
        "# mobilenet_v2 batchsize 64, lr 0.001 epochs 20 ACCURACY 0.95\n",
        "# n_features = model.classifier[1].in_features\n",
        "# model.classifier = nn.Sequential(\n",
        "#     nn.Dropout(0.3),\n",
        "#     nn.Linear(n_features, int(1280/4)),\n",
        "#     nn.BatchNorm1d(int(1280/4)),\n",
        "#     nn.ReLU(),\n",
        "#     nn.Dropout(0.3),\n",
        "#     nn.Linear(int(1280/4), 2)\n",
        "#     )"
      ],
      "execution_count": 0,
      "outputs": []
    },
    {
      "cell_type": "code",
      "metadata": {
        "id": "jixmY19HR0_Q",
        "colab_type": "code",
        "colab": {}
      },
      "source": [
        "# shufflenet_v2_x1_0 batchsize 64, lr 0.001 epochs 20 ACCURACY 0.96\n",
        "# n_features = model.fc.in_features\n",
        "# model.fc = nn.Sequential(\n",
        "#     nn.Dropout(0.3),\n",
        "#     nn.Linear(n_features, int(n_features/4)),\n",
        "#     nn.BatchNorm1d(int(n_features/4)),\n",
        "#     nn.ReLU(),\n",
        "#     nn.Dropout(0.3),\n",
        "#     nn.Linear(int(n_features/4), 2)\n",
        "#     )"
      ],
      "execution_count": 0,
      "outputs": []
    },
    {
      "cell_type": "code",
      "metadata": {
        "id": "nL1arixMH9MN",
        "colab_type": "code",
        "outputId": "8e911825-bee7-45b7-caf4-ffcc9fe207c1",
        "colab": {
          "base_uri": "https://localhost:8080/",
          "height": 1000
        }
      },
      "source": [
        "device = torch.device('cuda:0' if torch.cuda.is_available() else 'cpu')\n",
        "model.to(device)"
      ],
      "execution_count": 0,
      "outputs": [
        {
          "output_type": "execute_result",
          "data": {
            "text/plain": [
              "ShuffleNetV2(\n",
              "  (conv1): Sequential(\n",
              "    (0): Conv2d(3, 24, kernel_size=(3, 3), stride=(2, 2), padding=(1, 1), bias=False)\n",
              "    (1): BatchNorm2d(24, eps=1e-05, momentum=0.1, affine=True, track_running_stats=True)\n",
              "    (2): ReLU(inplace=True)\n",
              "  )\n",
              "  (maxpool): MaxPool2d(kernel_size=3, stride=2, padding=1, dilation=1, ceil_mode=False)\n",
              "  (stage2): Sequential(\n",
              "    (0): InvertedResidual(\n",
              "      (branch1): Sequential(\n",
              "        (0): Conv2d(24, 24, kernel_size=(3, 3), stride=(2, 2), padding=(1, 1), groups=24, bias=False)\n",
              "        (1): BatchNorm2d(24, eps=1e-05, momentum=0.1, affine=True, track_running_stats=True)\n",
              "        (2): Conv2d(24, 58, kernel_size=(1, 1), stride=(1, 1), bias=False)\n",
              "        (3): BatchNorm2d(58, eps=1e-05, momentum=0.1, affine=True, track_running_stats=True)\n",
              "        (4): ReLU(inplace=True)\n",
              "      )\n",
              "      (branch2): Sequential(\n",
              "        (0): Conv2d(24, 58, kernel_size=(1, 1), stride=(1, 1), bias=False)\n",
              "        (1): BatchNorm2d(58, eps=1e-05, momentum=0.1, affine=True, track_running_stats=True)\n",
              "        (2): ReLU(inplace=True)\n",
              "        (3): Conv2d(58, 58, kernel_size=(3, 3), stride=(2, 2), padding=(1, 1), groups=58, bias=False)\n",
              "        (4): BatchNorm2d(58, eps=1e-05, momentum=0.1, affine=True, track_running_stats=True)\n",
              "        (5): Conv2d(58, 58, kernel_size=(1, 1), stride=(1, 1), bias=False)\n",
              "        (6): BatchNorm2d(58, eps=1e-05, momentum=0.1, affine=True, track_running_stats=True)\n",
              "        (7): ReLU(inplace=True)\n",
              "      )\n",
              "    )\n",
              "    (1): InvertedResidual(\n",
              "      (branch1): Sequential()\n",
              "      (branch2): Sequential(\n",
              "        (0): Conv2d(58, 58, kernel_size=(1, 1), stride=(1, 1), bias=False)\n",
              "        (1): BatchNorm2d(58, eps=1e-05, momentum=0.1, affine=True, track_running_stats=True)\n",
              "        (2): ReLU(inplace=True)\n",
              "        (3): Conv2d(58, 58, kernel_size=(3, 3), stride=(1, 1), padding=(1, 1), groups=58, bias=False)\n",
              "        (4): BatchNorm2d(58, eps=1e-05, momentum=0.1, affine=True, track_running_stats=True)\n",
              "        (5): Conv2d(58, 58, kernel_size=(1, 1), stride=(1, 1), bias=False)\n",
              "        (6): BatchNorm2d(58, eps=1e-05, momentum=0.1, affine=True, track_running_stats=True)\n",
              "        (7): ReLU(inplace=True)\n",
              "      )\n",
              "    )\n",
              "    (2): InvertedResidual(\n",
              "      (branch1): Sequential()\n",
              "      (branch2): Sequential(\n",
              "        (0): Conv2d(58, 58, kernel_size=(1, 1), stride=(1, 1), bias=False)\n",
              "        (1): BatchNorm2d(58, eps=1e-05, momentum=0.1, affine=True, track_running_stats=True)\n",
              "        (2): ReLU(inplace=True)\n",
              "        (3): Conv2d(58, 58, kernel_size=(3, 3), stride=(1, 1), padding=(1, 1), groups=58, bias=False)\n",
              "        (4): BatchNorm2d(58, eps=1e-05, momentum=0.1, affine=True, track_running_stats=True)\n",
              "        (5): Conv2d(58, 58, kernel_size=(1, 1), stride=(1, 1), bias=False)\n",
              "        (6): BatchNorm2d(58, eps=1e-05, momentum=0.1, affine=True, track_running_stats=True)\n",
              "        (7): ReLU(inplace=True)\n",
              "      )\n",
              "    )\n",
              "    (3): InvertedResidual(\n",
              "      (branch1): Sequential()\n",
              "      (branch2): Sequential(\n",
              "        (0): Conv2d(58, 58, kernel_size=(1, 1), stride=(1, 1), bias=False)\n",
              "        (1): BatchNorm2d(58, eps=1e-05, momentum=0.1, affine=True, track_running_stats=True)\n",
              "        (2): ReLU(inplace=True)\n",
              "        (3): Conv2d(58, 58, kernel_size=(3, 3), stride=(1, 1), padding=(1, 1), groups=58, bias=False)\n",
              "        (4): BatchNorm2d(58, eps=1e-05, momentum=0.1, affine=True, track_running_stats=True)\n",
              "        (5): Conv2d(58, 58, kernel_size=(1, 1), stride=(1, 1), bias=False)\n",
              "        (6): BatchNorm2d(58, eps=1e-05, momentum=0.1, affine=True, track_running_stats=True)\n",
              "        (7): ReLU(inplace=True)\n",
              "      )\n",
              "    )\n",
              "  )\n",
              "  (stage3): Sequential(\n",
              "    (0): InvertedResidual(\n",
              "      (branch1): Sequential(\n",
              "        (0): Conv2d(116, 116, kernel_size=(3, 3), stride=(2, 2), padding=(1, 1), groups=116, bias=False)\n",
              "        (1): BatchNorm2d(116, eps=1e-05, momentum=0.1, affine=True, track_running_stats=True)\n",
              "        (2): Conv2d(116, 116, kernel_size=(1, 1), stride=(1, 1), bias=False)\n",
              "        (3): BatchNorm2d(116, eps=1e-05, momentum=0.1, affine=True, track_running_stats=True)\n",
              "        (4): ReLU(inplace=True)\n",
              "      )\n",
              "      (branch2): Sequential(\n",
              "        (0): Conv2d(116, 116, kernel_size=(1, 1), stride=(1, 1), bias=False)\n",
              "        (1): BatchNorm2d(116, eps=1e-05, momentum=0.1, affine=True, track_running_stats=True)\n",
              "        (2): ReLU(inplace=True)\n",
              "        (3): Conv2d(116, 116, kernel_size=(3, 3), stride=(2, 2), padding=(1, 1), groups=116, bias=False)\n",
              "        (4): BatchNorm2d(116, eps=1e-05, momentum=0.1, affine=True, track_running_stats=True)\n",
              "        (5): Conv2d(116, 116, kernel_size=(1, 1), stride=(1, 1), bias=False)\n",
              "        (6): BatchNorm2d(116, eps=1e-05, momentum=0.1, affine=True, track_running_stats=True)\n",
              "        (7): ReLU(inplace=True)\n",
              "      )\n",
              "    )\n",
              "    (1): InvertedResidual(\n",
              "      (branch1): Sequential()\n",
              "      (branch2): Sequential(\n",
              "        (0): Conv2d(116, 116, kernel_size=(1, 1), stride=(1, 1), bias=False)\n",
              "        (1): BatchNorm2d(116, eps=1e-05, momentum=0.1, affine=True, track_running_stats=True)\n",
              "        (2): ReLU(inplace=True)\n",
              "        (3): Conv2d(116, 116, kernel_size=(3, 3), stride=(1, 1), padding=(1, 1), groups=116, bias=False)\n",
              "        (4): BatchNorm2d(116, eps=1e-05, momentum=0.1, affine=True, track_running_stats=True)\n",
              "        (5): Conv2d(116, 116, kernel_size=(1, 1), stride=(1, 1), bias=False)\n",
              "        (6): BatchNorm2d(116, eps=1e-05, momentum=0.1, affine=True, track_running_stats=True)\n",
              "        (7): ReLU(inplace=True)\n",
              "      )\n",
              "    )\n",
              "    (2): InvertedResidual(\n",
              "      (branch1): Sequential()\n",
              "      (branch2): Sequential(\n",
              "        (0): Conv2d(116, 116, kernel_size=(1, 1), stride=(1, 1), bias=False)\n",
              "        (1): BatchNorm2d(116, eps=1e-05, momentum=0.1, affine=True, track_running_stats=True)\n",
              "        (2): ReLU(inplace=True)\n",
              "        (3): Conv2d(116, 116, kernel_size=(3, 3), stride=(1, 1), padding=(1, 1), groups=116, bias=False)\n",
              "        (4): BatchNorm2d(116, eps=1e-05, momentum=0.1, affine=True, track_running_stats=True)\n",
              "        (5): Conv2d(116, 116, kernel_size=(1, 1), stride=(1, 1), bias=False)\n",
              "        (6): BatchNorm2d(116, eps=1e-05, momentum=0.1, affine=True, track_running_stats=True)\n",
              "        (7): ReLU(inplace=True)\n",
              "      )\n",
              "    )\n",
              "    (3): InvertedResidual(\n",
              "      (branch1): Sequential()\n",
              "      (branch2): Sequential(\n",
              "        (0): Conv2d(116, 116, kernel_size=(1, 1), stride=(1, 1), bias=False)\n",
              "        (1): BatchNorm2d(116, eps=1e-05, momentum=0.1, affine=True, track_running_stats=True)\n",
              "        (2): ReLU(inplace=True)\n",
              "        (3): Conv2d(116, 116, kernel_size=(3, 3), stride=(1, 1), padding=(1, 1), groups=116, bias=False)\n",
              "        (4): BatchNorm2d(116, eps=1e-05, momentum=0.1, affine=True, track_running_stats=True)\n",
              "        (5): Conv2d(116, 116, kernel_size=(1, 1), stride=(1, 1), bias=False)\n",
              "        (6): BatchNorm2d(116, eps=1e-05, momentum=0.1, affine=True, track_running_stats=True)\n",
              "        (7): ReLU(inplace=True)\n",
              "      )\n",
              "    )\n",
              "    (4): InvertedResidual(\n",
              "      (branch1): Sequential()\n",
              "      (branch2): Sequential(\n",
              "        (0): Conv2d(116, 116, kernel_size=(1, 1), stride=(1, 1), bias=False)\n",
              "        (1): BatchNorm2d(116, eps=1e-05, momentum=0.1, affine=True, track_running_stats=True)\n",
              "        (2): ReLU(inplace=True)\n",
              "        (3): Conv2d(116, 116, kernel_size=(3, 3), stride=(1, 1), padding=(1, 1), groups=116, bias=False)\n",
              "        (4): BatchNorm2d(116, eps=1e-05, momentum=0.1, affine=True, track_running_stats=True)\n",
              "        (5): Conv2d(116, 116, kernel_size=(1, 1), stride=(1, 1), bias=False)\n",
              "        (6): BatchNorm2d(116, eps=1e-05, momentum=0.1, affine=True, track_running_stats=True)\n",
              "        (7): ReLU(inplace=True)\n",
              "      )\n",
              "    )\n",
              "    (5): InvertedResidual(\n",
              "      (branch1): Sequential()\n",
              "      (branch2): Sequential(\n",
              "        (0): Conv2d(116, 116, kernel_size=(1, 1), stride=(1, 1), bias=False)\n",
              "        (1): BatchNorm2d(116, eps=1e-05, momentum=0.1, affine=True, track_running_stats=True)\n",
              "        (2): ReLU(inplace=True)\n",
              "        (3): Conv2d(116, 116, kernel_size=(3, 3), stride=(1, 1), padding=(1, 1), groups=116, bias=False)\n",
              "        (4): BatchNorm2d(116, eps=1e-05, momentum=0.1, affine=True, track_running_stats=True)\n",
              "        (5): Conv2d(116, 116, kernel_size=(1, 1), stride=(1, 1), bias=False)\n",
              "        (6): BatchNorm2d(116, eps=1e-05, momentum=0.1, affine=True, track_running_stats=True)\n",
              "        (7): ReLU(inplace=True)\n",
              "      )\n",
              "    )\n",
              "    (6): InvertedResidual(\n",
              "      (branch1): Sequential()\n",
              "      (branch2): Sequential(\n",
              "        (0): Conv2d(116, 116, kernel_size=(1, 1), stride=(1, 1), bias=False)\n",
              "        (1): BatchNorm2d(116, eps=1e-05, momentum=0.1, affine=True, track_running_stats=True)\n",
              "        (2): ReLU(inplace=True)\n",
              "        (3): Conv2d(116, 116, kernel_size=(3, 3), stride=(1, 1), padding=(1, 1), groups=116, bias=False)\n",
              "        (4): BatchNorm2d(116, eps=1e-05, momentum=0.1, affine=True, track_running_stats=True)\n",
              "        (5): Conv2d(116, 116, kernel_size=(1, 1), stride=(1, 1), bias=False)\n",
              "        (6): BatchNorm2d(116, eps=1e-05, momentum=0.1, affine=True, track_running_stats=True)\n",
              "        (7): ReLU(inplace=True)\n",
              "      )\n",
              "    )\n",
              "    (7): InvertedResidual(\n",
              "      (branch1): Sequential()\n",
              "      (branch2): Sequential(\n",
              "        (0): Conv2d(116, 116, kernel_size=(1, 1), stride=(1, 1), bias=False)\n",
              "        (1): BatchNorm2d(116, eps=1e-05, momentum=0.1, affine=True, track_running_stats=True)\n",
              "        (2): ReLU(inplace=True)\n",
              "        (3): Conv2d(116, 116, kernel_size=(3, 3), stride=(1, 1), padding=(1, 1), groups=116, bias=False)\n",
              "        (4): BatchNorm2d(116, eps=1e-05, momentum=0.1, affine=True, track_running_stats=True)\n",
              "        (5): Conv2d(116, 116, kernel_size=(1, 1), stride=(1, 1), bias=False)\n",
              "        (6): BatchNorm2d(116, eps=1e-05, momentum=0.1, affine=True, track_running_stats=True)\n",
              "        (7): ReLU(inplace=True)\n",
              "      )\n",
              "    )\n",
              "  )\n",
              "  (stage4): Sequential(\n",
              "    (0): InvertedResidual(\n",
              "      (branch1): Sequential(\n",
              "        (0): Conv2d(232, 232, kernel_size=(3, 3), stride=(2, 2), padding=(1, 1), groups=232, bias=False)\n",
              "        (1): BatchNorm2d(232, eps=1e-05, momentum=0.1, affine=True, track_running_stats=True)\n",
              "        (2): Conv2d(232, 232, kernel_size=(1, 1), stride=(1, 1), bias=False)\n",
              "        (3): BatchNorm2d(232, eps=1e-05, momentum=0.1, affine=True, track_running_stats=True)\n",
              "        (4): ReLU(inplace=True)\n",
              "      )\n",
              "      (branch2): Sequential(\n",
              "        (0): Conv2d(232, 232, kernel_size=(1, 1), stride=(1, 1), bias=False)\n",
              "        (1): BatchNorm2d(232, eps=1e-05, momentum=0.1, affine=True, track_running_stats=True)\n",
              "        (2): ReLU(inplace=True)\n",
              "        (3): Conv2d(232, 232, kernel_size=(3, 3), stride=(2, 2), padding=(1, 1), groups=232, bias=False)\n",
              "        (4): BatchNorm2d(232, eps=1e-05, momentum=0.1, affine=True, track_running_stats=True)\n",
              "        (5): Conv2d(232, 232, kernel_size=(1, 1), stride=(1, 1), bias=False)\n",
              "        (6): BatchNorm2d(232, eps=1e-05, momentum=0.1, affine=True, track_running_stats=True)\n",
              "        (7): ReLU(inplace=True)\n",
              "      )\n",
              "    )\n",
              "    (1): InvertedResidual(\n",
              "      (branch1): Sequential()\n",
              "      (branch2): Sequential(\n",
              "        (0): Conv2d(232, 232, kernel_size=(1, 1), stride=(1, 1), bias=False)\n",
              "        (1): BatchNorm2d(232, eps=1e-05, momentum=0.1, affine=True, track_running_stats=True)\n",
              "        (2): ReLU(inplace=True)\n",
              "        (3): Conv2d(232, 232, kernel_size=(3, 3), stride=(1, 1), padding=(1, 1), groups=232, bias=False)\n",
              "        (4): BatchNorm2d(232, eps=1e-05, momentum=0.1, affine=True, track_running_stats=True)\n",
              "        (5): Conv2d(232, 232, kernel_size=(1, 1), stride=(1, 1), bias=False)\n",
              "        (6): BatchNorm2d(232, eps=1e-05, momentum=0.1, affine=True, track_running_stats=True)\n",
              "        (7): ReLU(inplace=True)\n",
              "      )\n",
              "    )\n",
              "    (2): InvertedResidual(\n",
              "      (branch1): Sequential()\n",
              "      (branch2): Sequential(\n",
              "        (0): Conv2d(232, 232, kernel_size=(1, 1), stride=(1, 1), bias=False)\n",
              "        (1): BatchNorm2d(232, eps=1e-05, momentum=0.1, affine=True, track_running_stats=True)\n",
              "        (2): ReLU(inplace=True)\n",
              "        (3): Conv2d(232, 232, kernel_size=(3, 3), stride=(1, 1), padding=(1, 1), groups=232, bias=False)\n",
              "        (4): BatchNorm2d(232, eps=1e-05, momentum=0.1, affine=True, track_running_stats=True)\n",
              "        (5): Conv2d(232, 232, kernel_size=(1, 1), stride=(1, 1), bias=False)\n",
              "        (6): BatchNorm2d(232, eps=1e-05, momentum=0.1, affine=True, track_running_stats=True)\n",
              "        (7): ReLU(inplace=True)\n",
              "      )\n",
              "    )\n",
              "    (3): InvertedResidual(\n",
              "      (branch1): Sequential()\n",
              "      (branch2): Sequential(\n",
              "        (0): Conv2d(232, 232, kernel_size=(1, 1), stride=(1, 1), bias=False)\n",
              "        (1): BatchNorm2d(232, eps=1e-05, momentum=0.1, affine=True, track_running_stats=True)\n",
              "        (2): ReLU(inplace=True)\n",
              "        (3): Conv2d(232, 232, kernel_size=(3, 3), stride=(1, 1), padding=(1, 1), groups=232, bias=False)\n",
              "        (4): BatchNorm2d(232, eps=1e-05, momentum=0.1, affine=True, track_running_stats=True)\n",
              "        (5): Conv2d(232, 232, kernel_size=(1, 1), stride=(1, 1), bias=False)\n",
              "        (6): BatchNorm2d(232, eps=1e-05, momentum=0.1, affine=True, track_running_stats=True)\n",
              "        (7): ReLU(inplace=True)\n",
              "      )\n",
              "    )\n",
              "  )\n",
              "  (conv5): Sequential(\n",
              "    (0): Conv2d(464, 1024, kernel_size=(1, 1), stride=(1, 1), bias=False)\n",
              "    (1): BatchNorm2d(1024, eps=1e-05, momentum=0.1, affine=True, track_running_stats=True)\n",
              "    (2): ReLU(inplace=True)\n",
              "  )\n",
              "  (fc): Sequential(\n",
              "    (0): Dropout(p=0.3, inplace=False)\n",
              "    (1): Linear(in_features=1024, out_features=256, bias=True)\n",
              "    (2): BatchNorm1d(256, eps=1e-05, momentum=0.1, affine=True, track_running_stats=True)\n",
              "    (3): ReLU()\n",
              "    (4): Dropout(p=0.3, inplace=False)\n",
              "    (5): Linear(in_features=256, out_features=2, bias=True)\n",
              "  )\n",
              ")"
            ]
          },
          "metadata": {
            "tags": []
          },
          "execution_count": 31
        }
      ]
    },
    {
      "cell_type": "code",
      "metadata": {
        "id": "dj5Ao8hYH9MS",
        "colab_type": "code",
        "colab": {}
      },
      "source": [
        "criterion = nn.CrossEntropyLoss()\n",
        "optimizer = torch.optim.Adam(model.parameters(),lr=0.001)"
      ],
      "execution_count": 0,
      "outputs": []
    },
    {
      "cell_type": "code",
      "metadata": {
        "id": "3KLCebajH9MZ",
        "colab_type": "code",
        "outputId": "2adf38a5-54cc-4f66-84fa-1719a87f33d7",
        "colab": {
          "base_uri": "https://localhost:8080/",
          "height": 493
        }
      },
      "source": [
        "train_losses, test_losses = train_loop(model, \n",
        "                    criterion, \n",
        "                    optimizer, \n",
        "                    train_loader, \n",
        "                    test_loader, \n",
        "                    epochs=20,\n",
        "                    device=device,\n",
        "                    save_model=True)"
      ],
      "execution_count": 0,
      "outputs": [
        {
          "output_type": "stream",
          "text": [
            "saving new best model with Test Loss: 0.2199\n",
            "Epoch 1/20, Train Loss:0.2622,                 Test Loss: 0.2199\n",
            "saving new best model with Test Loss: 0.1745\n",
            "Epoch 2/20, Train Loss:0.1965,                 Test Loss: 0.1745\n",
            "Epoch 3/20, Train Loss:0.1870,                 Test Loss: 0.2138\n",
            "Epoch 4/20, Train Loss:0.1727,                 Test Loss: 0.2073\n",
            "saving new best model with Test Loss: 0.1662\n",
            "Epoch 5/20, Train Loss:0.1690,                 Test Loss: 0.1662\n",
            "Epoch 6/20, Train Loss:0.1747,                 Test Loss: 0.1775\n",
            "Epoch 7/20, Train Loss:0.1667,                 Test Loss: 0.2307\n",
            "Epoch 8/20, Train Loss:0.1554,                 Test Loss: 0.1787\n",
            "saving new best model with Test Loss: 0.1653\n",
            "Epoch 9/20, Train Loss:0.1555,                 Test Loss: 0.1653\n",
            "saving new best model with Test Loss: 0.1570\n",
            "Epoch 10/20, Train Loss:0.1278,                 Test Loss: 0.1570\n",
            "Epoch 11/20, Train Loss:0.1375,                 Test Loss: 0.1617\n",
            "Epoch 12/20, Train Loss:0.1427,                 Test Loss: 0.1601\n",
            "saving new best model with Test Loss: 0.1524\n",
            "Epoch 13/20, Train Loss:0.1313,                 Test Loss: 0.1524\n",
            "Epoch 14/20, Train Loss:0.1269,                 Test Loss: 0.1836\n",
            "saving new best model with Test Loss: 0.1429\n",
            "Epoch 15/20, Train Loss:0.1268,                 Test Loss: 0.1429\n",
            "saving new best model with Test Loss: 0.1328\n",
            "Epoch 16/20, Train Loss:0.1274,                 Test Loss: 0.1328\n",
            "Epoch 17/20, Train Loss:0.1237,                 Test Loss: 0.1516\n",
            "Epoch 18/20, Train Loss:0.1360,                 Test Loss: 0.1449\n",
            "Epoch 19/20, Train Loss:0.1264,                 Test Loss: 0.1559\n",
            "Epoch 20/20, Train Loss:0.1234,                 Test Loss: 0.1675\n"
          ],
          "name": "stdout"
        }
      ]
    },
    {
      "cell_type": "code",
      "metadata": {
        "id": "Z4M2YGSgH9Mb",
        "colab_type": "code",
        "outputId": "b1cb454f-0f55-45b2-a218-d266fead4e01",
        "colab": {
          "base_uri": "https://localhost:8080/",
          "height": 265
        }
      },
      "source": [
        " # Plot the train loss and test loss per iteration\n",
        "plt.plot(train_losses, label='train loss')\n",
        "plt.plot(test_losses, label='test loss')\n",
        "plt.legend()\n",
        "plt.show()"
      ],
      "execution_count": 0,
      "outputs": [
        {
          "output_type": "display_data",
          "data": {
            "image/png": "[encoded data removed]",
            "text/plain": [
              "<Figure size 432x288 with 1 Axes>"
            ]
          },
          "metadata": {
            "tags": [],
            "needs_background": "light"
          }
        }
      ]
    },
    {
      "cell_type": "code",
      "metadata": {
        "id": "zXW5QuL8lRGG",
        "colab_type": "code",
        "colab": {}
      },
      "source": [
        "# model = torch.load('/content/models/ShuffleNetV2.pt')"
      ],
      "execution_count": 0,
      "outputs": []
    },
    {
      "cell_type": "code",
      "metadata": {
        "id": "0jJqPMQbMvTu",
        "colab_type": "code",
        "outputId": "ae7d3099-7471-41ff-e858-477b46dbe368",
        "colab": {
          "base_uri": "https://localhost:8080/",
          "height": 34
        }
      },
      "source": [
        "train_acc = accuracy(train_loader,model,device)\n",
        "test_acc = accuracy(test_loader,model,device)\n",
        "print(f\"Train acc: {train_acc:.4f}, Test acc: {test_acc:.4f}\")"
      ],
      "execution_count": 0,
      "outputs": [
        {
          "output_type": "stream",
          "text": [
            "Train acc: 0.9757, Test acc: 0.9554\n"
          ],
          "name": "stdout"
        }
      ]
    },
    {
      "cell_type": "code",
      "metadata": {
        "id": "IXeJN9vqYw4-",
        "colab_type": "code",
        "outputId": "0ab4f176-82bc-4649-8f03-45455e66ca05",
        "colab": {
          "base_uri": "https://localhost:8080/",
          "height": 85
        }
      },
      "source": [
        "!zip -r /content/models.zip /content/models"
      ],
      "execution_count": 0,
      "outputs": [
        {
          "output_type": "stream",
          "text": [
            "  adding: content/models/ (stored 0%)\n",
            "  adding: content/models/VGG.pt (deflated 8%)\n",
            "  adding: content/models/MobileNetV2.pt (deflated 8%)\n",
            "  adding: content/models/ShuffleNetV2.pt (deflated 8%)\n"
          ],
          "name": "stdout"
        }
      ]
    },
    {
      "cell_type": "markdown",
      "metadata": {
        "id": "0uThI2ziXdg2",
        "colab_type": "text"
      },
      "source": [
        "# Hyperparameter Tuning"
      ]
    },
    {
      "cell_type": "markdown",
      "metadata": {
        "id": "dCnhFU8SZEzL",
        "colab_type": "text"
      },
      "source": [
        "credit to https://docs.ray.io/en/master/tune.html"
      ]
    },
    {
      "cell_type": "code",
      "metadata": {
        "id": "7FhnXOZDV9-i",
        "colab_type": "code",
        "outputId": "bf266c6d-2d68-4118-bacb-823147b36b42",
        "colab": {
          "base_uri": "https://localhost:8080/",
          "height": 85
        }
      },
      "source": [
        "!pip uninstall -y -q pyarrow\n",
        "!pip install -q https://s3-us-west-2.amazonaws.com/ray-wheels/latest/ray-0.8.0.dev5-cp36-cp36m-manylinux1_x86_64.whl\n",
        "!pip install -q ray[debug]"
      ],
      "execution_count": 2,
      "outputs": [
        {
          "output_type": "stream",
          "text": [
            "\u001b[K     |████████████████████████████████| 75.9MB 55kB/s \n",
            "\u001b[K     |████████████████████████████████| 81kB 4.5MB/s \n",
            "\u001b[K     |████████████████████████████████| 2.9MB 3.4MB/s \n",
            "\u001b[?25h  Building wheel for setproctitle (setup.py) ... \u001b[?25l\u001b[?25hdone\n"
          ],
          "name": "stdout"
        }
      ]
    },
    {
      "cell_type": "code",
      "metadata": {
        "id": "ANDaLoPrYrov",
        "colab_type": "code",
        "colab": {}
      },
      "source": [
        "import os\n",
        "os._exit(0)"
      ],
      "execution_count": 0,
      "outputs": []
    },
    {
      "cell_type": "code",
      "metadata": {
        "id": "95I6q4xl8WS5",
        "colab_type": "code",
        "colab": {}
      },
      "source": [
        "!unzip hype_data.zip"
      ],
      "execution_count": 0,
      "outputs": []
    },
    {
      "cell_type": "code",
      "metadata": {
        "id": "M6DG-sttXlzl",
        "colab_type": "code",
        "colab": {}
      },
      "source": [
        "import tensorflow as tf\n",
        "try:\n",
        "    tf.get_logger().setLevel('INFO')\n",
        "except Exception as exc:\n",
        "    print(exc)\n",
        "import warnings\n",
        "warnings.simplefilter(\"ignore\")\n",
        "\n",
        "import os\n",
        "import numpy as np\n",
        "import torch\n",
        "import torch.optim as optim\n",
        "import torch.nn as nn\n",
        "from torchvision import datasets, transforms, models\n",
        "\n",
        "import ray\n",
        "from ray import tune\n",
        "from ray.tune import track\n",
        "from ray.tune.schedulers import PopulationBasedTraining\n",
        "from ray.tune.util import validate_save_restore\n",
        "\n",
        "from models import train_loop, get_dataloaders, accuracy\n",
        "\n",
        "%matplotlib inline\n",
        "import matplotlib.style as style\n",
        "import matplotlib.pyplot as plt\n",
        "style.use(\"ggplot\")"
      ],
      "execution_count": 0,
      "outputs": []
    },
    {
      "cell_type": "code",
      "metadata": {
        "id": "o2yFRwf0L51n",
        "colab_type": "code",
        "colab": {}
      },
      "source": [
        "class PytorchTrainble(tune.Trainable):\n",
        "    def _setup(self, config):\n",
        "        self.device = torch.device('cpu')\n",
        "        self.train_loader, self.test_loader = get_dataloaders(os.path.join('/content','hype_data'))\n",
        "        self.model = models.shufflenet_v2_x1_0(pretrained=True)\n",
        "        for param in self.model.parameters():\n",
        "            param.requires_grad = False\n",
        "        n_features = self.model.fc.in_features\n",
        "        self.model.fc = nn.Sequential(\n",
        "            nn.Dropout(0.3),\n",
        "            nn.Linear(n_features, int(n_features/4)),\n",
        "            nn.BatchNorm1d(int(n_features/4)),\n",
        "            nn.ReLU(),\n",
        "            nn.Dropout(0.3),\n",
        "            nn.Linear(int(n_features/4), 2))\n",
        "        self.optimizer = optim.Adam(\n",
        "            self.model.parameters(),\n",
        "            lr=config.get(\"lr\", 0.01))\n",
        "        self.criterion = nn.CrossEntropyLoss()\n",
        "\n",
        "    def _train(self):\n",
        "        train_loop(self.model,\n",
        "              self.criterion, \n",
        "              self.optimizer, \n",
        "              self.train_loader, \n",
        "              self.test_loader, \n",
        "              epochs=1,\n",
        "              device=self.device,\n",
        "              save_model=False)\n",
        "        acc = accuracy(self.test_loader, self.model, self.device)\n",
        "        return {\"mean_accuracy\": acc}\n",
        "\n",
        "    def _save(self, checkpoint_dir):\n",
        "        checkpoint_path = os.path.join(checkpoint_dir, \"model.pth\")\n",
        "        torch.save(self.model.state_dict(), checkpoint_path)\n",
        "        return checkpoint_path\n",
        "\n",
        "    def _restore(self, checkpoint_path):\n",
        "        self.model.load_state_dict(torch.load(checkpoint_path))\n",
        "        \n",
        "    def reset_config(self, new_config):\n",
        "        del self.optimizer\n",
        "        self.optimizer = optim.Adam(\n",
        "            self.model.parameters(),\n",
        "            lr=config.get(\"lr\", 0.01))\n",
        "        return True"
      ],
      "execution_count": 0,
      "outputs": []
    },
    {
      "cell_type": "code",
      "metadata": {
        "id": "SzTgrzgva53U",
        "colab_type": "code",
        "colab": {}
      },
      "source": [
        "scheduler = PopulationBasedTraining(\n",
        "    time_attr=\"training_iteration\",\n",
        "    metric=\"mean_accuracy\",\n",
        "    mode=\"max\",\n",
        "    perturbation_interval=5,\n",
        "    hyperparam_mutations={\n",
        "        \"lr\": lambda: np.random.uniform(0.0001, 1)\n",
        "    }\n",
        ")"
      ],
      "execution_count": 0,
      "outputs": []
    },
    {
      "cell_type": "code",
      "metadata": {
        "id": "U-NZvZDAc1LV",
        "colab_type": "code",
        "outputId": "8ff8ffe9-adf5-4d5e-c8f0-e2f178825f04",
        "colab": {
          "base_uri": "https://localhost:8080/",
          "height": 366
        }
      },
      "source": [
        "ray.shutdown()\n",
        "ray.init(log_to_driver=False)\n",
        "\n",
        "\n",
        "analysis = tune.run(\n",
        "    PytorchTrainble,\n",
        "    name=\"hyped_shufflenet\",\n",
        "    scheduler=scheduler,\n",
        "    reuse_actors=True,\n",
        "    verbose=1,\n",
        "    stop={\n",
        "        \"training_iteration\": 100,\n",
        "    },\n",
        "    num_samples=5,\n",
        "    resources_per_trial={\"gpu\": 1},\n",
        "    config={\n",
        "        \"lr\": tune.uniform(0.0001, 0.1)\n",
        "    })"
      ],
      "execution_count": 0,
      "outputs": [
        {
          "output_type": "display_data",
          "data": {
            "text/html": [
              "== Status ==<br>Memory usage on this node: 1.8/12.7 GiB<br>PopulationBasedTraining: 8 checkpoints, 0 perturbs<br>Resources requested: 1/2 CPUs, 1/1 GPUs, 0.0/7.03 GiB heap, 0.0/2.39 GiB objects<br>Number of trials: 5 ({'RUNNING': 1, 'PAUSED': 1, 'ERROR': 3})<br>Result logdir: /root/ray_results/hyped_shufflenet<br><table>\n",
              "<thead>\n",
              "<tr><th>Trial name              </th><th>ID      </th><th>status  </th><th>loc     </th><th style=\"text-align: right;\">  failures</th><th>error file                                                                                                           </th><th style=\"text-align: right;\">        lr</th><th style=\"text-align: right;\">  iter</th><th style=\"text-align: right;\">  total time (s)</th><th style=\"text-align: right;\">     acc</th></tr>\n",
              "</thead>\n",
              "<tbody>\n",
              "<tr><td>PytorchTrainble_21bc1f68</td><td>21bc1f68</td><td>RUNNING </td><td>pid=2866</td><td style=\"text-align: right;\">         2</td><td>/root/ray_results/hyped_shufflenet/PytorchTrainble_21bc1f68_2020-05-29_06-32-13oyzvc_h4/error_2020-05-29_14-31-24.txt</td><td style=\"text-align: right;\">0.0436445 </td><td style=\"text-align: right;\">     5</td><td style=\"text-align: right;\">         1135.06</td><td style=\"text-align: right;\">0.913819</td></tr>\n",
              "<tr><td>PytorchTrainble_21bd888a</td><td>21bd888a</td><td>PAUSED  </td><td>pid=2847</td><td style=\"text-align: right;\">         3</td><td>/root/ray_results/hyped_shufflenet/PytorchTrainble_21bd888a_2020-05-29_06-51-2666a240cz/error_2020-05-29_13-18-06.txt</td><td style=\"text-align: right;\">0.00941611</td><td style=\"text-align: right;\">    20</td><td style=\"text-align: right;\">         4392.53</td><td style=\"text-align: right;\">0.940565</td></tr>\n",
              "<tr><td>PytorchTrainble_21be61ec</td><td>21be61ec</td><td>ERROR   </td><td>pid=2726</td><td style=\"text-align: right;\">         2</td><td>/root/ray_results/hyped_shufflenet/PytorchTrainble_21be61ec_2020-05-29_07-10-23ybq6nf58/error_2020-05-29_10-00-36.txt</td><td style=\"text-align: right;\">0.0667642 </td><td style=\"text-align: right;\">     9</td><td style=\"text-align: right;\">         2041.23</td><td style=\"text-align: right;\">0.91679 </td></tr>\n",
              "<tr><td>PytorchTrainble_21bf18da</td><td>21bf18da</td><td>ERROR   </td><td>pid=2813</td><td style=\"text-align: right;\">         2</td><td>/root/ray_results/hyped_shufflenet/PytorchTrainble_21bf18da_2020-05-29_07-29-27sfwydk38/error_2020-05-29_13-00-40.txt</td><td style=\"text-align: right;\">0.0305741 </td><td style=\"text-align: right;\">    14</td><td style=\"text-align: right;\">         2936.76</td><td style=\"text-align: right;\">0.906389</td></tr>\n",
              "<tr><td>PytorchTrainble_21c0bc1c</td><td>21c0bc1c</td><td>ERROR   </td><td>pid=2760</td><td style=\"text-align: right;\">         2</td><td>/root/ray_results/hyped_shufflenet/PytorchTrainble_21c0bc1c_2020-05-29_07-48-12s9t0sj40/error_2020-05-29_10-55-58.txt</td><td style=\"text-align: right;\">0.0840098 </td><td style=\"text-align: right;\">     9</td><td style=\"text-align: right;\">         1983.49</td><td style=\"text-align: right;\">0.918276</td></tr>\n",
              "</tbody>\n",
              "</table><br>"
            ],
            "text/plain": [
              "<IPython.core.display.HTML object>"
            ]
          },
          "metadata": {
            "tags": []
          }
        }
      ]
    },
    {
      "cell_type": "code",
      "metadata": {
        "id": "CCt-x8sndFlA",
        "colab_type": "code",
        "colab": {}
      },
      "source": [
        "%load_ext tensorboard"
      ],
      "execution_count": 0,
      "outputs": []
    },
    {
      "cell_type": "code",
      "metadata": {
        "id": "H-IrGi2phjrL",
        "colab_type": "code",
        "colab": {}
      },
      "source": [
        "%tensorboard --logdir ~/ray_results/hyped_shufflenet"
      ],
      "execution_count": 0,
      "outputs": []
    },
    {
      "cell_type": "code",
      "metadata": {
        "id": "W_T06SACiQT3",
        "colab_type": "code",
        "colab": {}
      },
      "source": [
        "!zip -r /root/ray_results/hyped_shufflenet.zip /root/ray_results/hyped_shufflenet"
      ],
      "execution_count": 0,
      "outputs": []
    }
  ]
}