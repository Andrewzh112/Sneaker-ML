{
 "cells": [
  {
   "cell_type": "code",
   "execution_count": 2,
   "metadata": {},
   "outputs": [],
   "source": [
    "from utils import resize, \\\n",
    "                  process_name, \\\n",
    "                  get_info, \\\n",
    "                  fix_orientation\n",
    "from shoeplotlib import plot_RBG_dist\n",
    "from PIL import Image, ImageOps\n",
    "import cv2\n",
    "from scipy import ndimage\n",
    "\n",
    "import re\n",
    "import pandas as pd\n",
    "import numpy as np\n",
    "import matplotlib.pyplot as plt\n",
    "from scipy.stats import entropy\n",
    "import seaborn as sns\n",
    "import math\n",
    "\n",
    "import os\n",
    "import shutil\n",
    "import glob\n",
    "from tqdm import tqdm\n",
    "import warnings\n",
    "warnings.filterwarnings(\"ignore\")"
   ]
  },
  {
   "cell_type": "markdown",
   "metadata": {},
   "source": [
    "## Pre-processing"
   ]
  },
  {
   "cell_type": "code",
   "execution_count": 3,
   "metadata": {},
   "outputs": [],
   "source": [
    "# directories\n",
    "curr_path = os.getcwd()\n",
    "project_path = os.path.join(curr_path, '..')\n",
    "non_hype_raw_path = os.path.join(project_path, 'data', 'non-hype-raw')\n",
    "non_hype_path = os.path.join(project_path, 'data', 'non-hype')\n",
    "data_path = os.path.join(project_path, 'data')\n",
    "img_folders = ['stockx', 'goat', 'flight_club', 'non-hype']"
   ]
  },
  {
   "cell_type": "code",
   "execution_count": 3,
   "metadata": {},
   "outputs": [],
   "source": [
    "# create non-hype after rotation folder\n",
    "if os.path.exists(non_hype_path):\n",
    "    shutil.rmtree(non_hype_path)\n",
    "os.makedirs(non_hype_path)"
   ]
  },
  {
   "cell_type": "code",
   "execution_count": 4,
   "metadata": {},
   "outputs": [
    {
     "name": "stderr",
     "output_type": "stream",
     "text": [
      "100%|██████████| 4293/4293 [04:58<00:00, 14.40it/s]\n"
     ]
    }
   ],
   "source": [
    "# fix orientations\n",
    "for file in tqdm(glob.glob(os.path.join(non_hype_raw_path,'**'))):\n",
    "    img, file_name = fix_orientation(file)\n",
    "    cv2.imwrite(os.path.join(non_hype_path,file_name), img) "
   ]
  },
  {
   "cell_type": "code",
   "execution_count": 18,
   "metadata": {},
   "outputs": [],
   "source": [
    "# create preprocessing folders\n",
    "processed_paths = [f'{path}_resized' for path in img_folders]\n",
    "for folder in processed_paths:\n",
    "    if os.path.exists(os.path.join(data_path,folder)):\n",
    "        shutil.rmtree(os.path.join(data_path,folder))\n",
    "    os.makedirs(os.path.join(data_path,folder))"
   ]
  },
  {
   "cell_type": "code",
   "execution_count": 3,
   "metadata": {},
   "outputs": [
    {
     "name": "stderr",
     "output_type": "stream",
     "text": [
      "100%|██████████| 866/866 [00:16<00:00, 52.97it/s]\n",
      "100%|██████████| 972/972 [00:17<00:00, 56.36it/s]\n",
      "100%|██████████| 1075/1075 [00:24<00:00, 44.61it/s]\n",
      "100%|██████████| 3845/3845 [03:38<00:00, 17.57it/s]\n"
     ]
    }
   ],
   "source": [
    "# record raw image specifications\n",
    "hyped_info, non_hyped_info = [], []\n",
    "target_size = (224,224) \n",
    "\n",
    "# resize and gather info loop\n",
    "for folder in img_folders:\n",
    "    for file in tqdm(glob.glob(os.path.join(data_path,folder,'**'))):\n",
    "        num_files = len(glob.glob(os.path.join(data_path,folder,'**')))\n",
    "        # rename image file and open the file\n",
    "        processed_name = process_name(file, folder)\n",
    "        source_img = Image.open(file)\n",
    "        save_path = os.path.join(data_path,\n",
    "                                 f'{folder}_resized', \\\n",
    "                                 processed_name)\n",
    "        \n",
    "        # grab raw image info and shoe info\n",
    "        if folder == 'non-hype':\n",
    "            non_hyped_info.append(get_info(source_img, \n",
    "                                         processed_name,\n",
    "                                         folder,\n",
    "                                         save_path))\n",
    "        else:\n",
    "            hyped_info.append(get_info(source_img, \n",
    "                                     processed_name,\n",
    "                                     folder,\n",
    "                                     save_path))\n",
    "            \n",
    "        # preprocess image\n",
    "#         resized_img = resize(source_img.copy(), target_size)\n",
    "        \n",
    "        # save to new path\n",
    "#         resized_img.save(save_path, format=\"JPEG\")"
   ]
  },
  {
   "cell_type": "code",
   "execution_count": 4,
   "metadata": {},
   "outputs": [],
   "source": [
    "# metadata dfs\n",
    "hyped_cols = ['name','brand','width','height','source', 'path']\n",
    "non_hyped_cols = ['name','width','height','source', 'path']\n",
    "hyped_info_df = pd.DataFrame(hyped_info, columns=hyped_cols)\n",
    "non_hyped_info_df = pd.DataFrame(non_hyped_info, columns=non_hyped_cols)"
   ]
  },
  {
   "cell_type": "code",
   "execution_count": 5,
   "metadata": {},
   "outputs": [],
   "source": [
    "# non_hyped_info_df.to_csv('non_hyped_info_df.csv',index=None)\n",
    "# hyped_info_df.to_csv('hyped_info_df.csv',index=None)"
   ]
  }
 ],
 "metadata": {
  "kernelspec": {
   "display_name": "Python 3",
   "language": "python",
   "name": "python3"
  },
  "language_info": {
   "codemirror_mode": {
    "name": "ipython",
    "version": 3
   },
   "file_extension": ".py",
   "mimetype": "text/x-python",
   "name": "python",
   "nbconvert_exporter": "python",
   "pygments_lexer": "ipython3",
   "version": "3.7.6"
  },
  "toc": {
   "base_numbering": 1,
   "nav_menu": {},
   "number_sections": true,
   "sideBar": true,
   "skip_h1_title": false,
   "title_cell": "Table of Contents",
   "title_sidebar": "Contents",
   "toc_cell": false,
   "toc_position": {},
   "toc_section_display": true,
   "toc_window_display": false
  }
 },
 "nbformat": 4,
 "nbformat_minor": 4
}
